{
 "cells": [
  {
   "cell_type": "markdown",
   "metadata": {},
   "source": [
    "# Modelling Antibiotics Resistance through virtual simulations\n",
    "authors: Talhah Peerbhai (talhah@cmu.edu), Hanna Qasim (hqasim@andrew.cmu.edu)"
   ]
  },
  {
   "cell_type": "code",
   "execution_count": 3,
   "metadata": {},
   "outputs": [
    {
     "ename": "ModuleNotFoundError",
     "evalue": "No module named 'simulation_model'",
     "output_type": "error",
     "traceback": [
      "\u001b[0;31m---------------------------------------------------------------------------\u001b[0m",
      "\u001b[0;31mModuleNotFoundError\u001b[0m                       Traceback (most recent call last)",
      "Cell \u001b[0;32mIn[3], line 10\u001b[0m\n\u001b[1;32m      7\u001b[0m \u001b[38;5;28;01mfrom\u001b[39;00m \u001b[38;5;21;01mmatplotlib\u001b[39;00m\u001b[38;5;21;01m.\u001b[39;00m\u001b[38;5;21;01manimation\u001b[39;00m \u001b[38;5;28;01mimport\u001b[39;00m FuncAnimation\n\u001b[1;32m      8\u001b[0m \u001b[38;5;66;03m# Due to the nature of jupyter it doesn't take into account the code outside changing unless kernel restarted\u001b[39;00m\n\u001b[1;32m      9\u001b[0m \u001b[38;5;66;03m# this is a workaround as per https://stackoverflow.com/questions/64158622/jupyter-does-not-see-changes-in-the-imported-module\u001b[39;00m\n\u001b[0;32m---> 10\u001b[0m imported_module \u001b[38;5;241m=\u001b[39m \u001b[43mimportlib\u001b[49m\u001b[38;5;241;43m.\u001b[39;49m\u001b[43mimport_module\u001b[49m\u001b[43m(\u001b[49m\u001b[38;5;124;43m\"\u001b[39;49m\u001b[38;5;124;43msimulation_model.simulation_model\u001b[39;49m\u001b[38;5;124;43m\"\u001b[39;49m\u001b[43m)\u001b[49m\n\u001b[1;32m     11\u001b[0m importlib\u001b[38;5;241m.\u001b[39mreload(imported_module)\n\u001b[1;32m     12\u001b[0m \u001b[38;5;28;01mfrom\u001b[39;00m \u001b[38;5;21;01msimulation_model\u001b[39;00m\u001b[38;5;21;01m.\u001b[39;00m\u001b[38;5;21;01msimulation_model\u001b[39;00m \u001b[38;5;28;01mimport\u001b[39;00m \u001b[38;5;241m*\u001b[39m\n",
      "File \u001b[0;32m/Library/Frameworks/Python.framework/Versions/3.11/lib/python3.11/importlib/__init__.py:126\u001b[0m, in \u001b[0;36mimport_module\u001b[0;34m(name, package)\u001b[0m\n\u001b[1;32m    124\u001b[0m             \u001b[38;5;28;01mbreak\u001b[39;00m\n\u001b[1;32m    125\u001b[0m         level \u001b[38;5;241m+\u001b[39m\u001b[38;5;241m=\u001b[39m \u001b[38;5;241m1\u001b[39m\n\u001b[0;32m--> 126\u001b[0m \u001b[38;5;28;01mreturn\u001b[39;00m \u001b[43m_bootstrap\u001b[49m\u001b[38;5;241;43m.\u001b[39;49m\u001b[43m_gcd_import\u001b[49m\u001b[43m(\u001b[49m\u001b[43mname\u001b[49m\u001b[43m[\u001b[49m\u001b[43mlevel\u001b[49m\u001b[43m:\u001b[49m\u001b[43m]\u001b[49m\u001b[43m,\u001b[49m\u001b[43m \u001b[49m\u001b[43mpackage\u001b[49m\u001b[43m,\u001b[49m\u001b[43m \u001b[49m\u001b[43mlevel\u001b[49m\u001b[43m)\u001b[49m\n",
      "File \u001b[0;32m<frozen importlib._bootstrap>:1206\u001b[0m, in \u001b[0;36m_gcd_import\u001b[0;34m(name, package, level)\u001b[0m\n",
      "File \u001b[0;32m<frozen importlib._bootstrap>:1178\u001b[0m, in \u001b[0;36m_find_and_load\u001b[0;34m(name, import_)\u001b[0m\n",
      "File \u001b[0;32m<frozen importlib._bootstrap>:1128\u001b[0m, in \u001b[0;36m_find_and_load_unlocked\u001b[0;34m(name, import_)\u001b[0m\n",
      "File \u001b[0;32m<frozen importlib._bootstrap>:241\u001b[0m, in \u001b[0;36m_call_with_frames_removed\u001b[0;34m(f, *args, **kwds)\u001b[0m\n",
      "File \u001b[0;32m<frozen importlib._bootstrap>:1206\u001b[0m, in \u001b[0;36m_gcd_import\u001b[0;34m(name, package, level)\u001b[0m\n",
      "File \u001b[0;32m<frozen importlib._bootstrap>:1178\u001b[0m, in \u001b[0;36m_find_and_load\u001b[0;34m(name, import_)\u001b[0m\n",
      "File \u001b[0;32m<frozen importlib._bootstrap>:1142\u001b[0m, in \u001b[0;36m_find_and_load_unlocked\u001b[0;34m(name, import_)\u001b[0m\n",
      "\u001b[0;31mModuleNotFoundError\u001b[0m: No module named 'simulation_model'"
     ]
    }
   ],
   "source": [
    "# Run this to initialize the model\n",
    "import importlib\n",
    "import seaborn as sns\n",
    "import pandas as pd\n",
    "import numpy as np\n",
    "import matplotlib.pyplot as plt\n",
    "from matplotlib.animation import FuncAnimation\n",
    "# Due to the nature of jupyter it doesn't take into account the code outside changing unless kernel restarted\n",
    "# this is a workaround as per https://stackoverflow.com/questions/64158622/jupyter-does-not-see-changes-in-the-imported-module\n",
    "imported_module = importlib.import_module(\"simulation_model.simulation_model\")\n",
    "importlib.reload(imported_module)\n",
    "from simulation_model.simulation_model import *\n",
    "\n",
    "params = {\n",
    "    # Environmental parameters\n",
    "    \"width\": 100,\n",
    "    \"height\": 100,\n",
    "    \"diffusion_coefficient\": 0.01, # nutrients\n",
    "    \"min_nutrients\": 5,\n",
    "    \"max_nutrients\": 10,\n",
    "    \"nutrient_distribution\": \"random\", # random or uniform, if uniform, every cell gets max_nutrients\n",
    "    # Bacterium parameters\n",
    "    \"resistant\": True,\n",
    "    \"num_agents\": 3,\n",
    "    \"nutrient_intake\": 1,\n",
    "    \"antibiotic_intake\": 1,\n",
    "    \"biomass_threshold\": 6,\n",
    "    \"initial_biomass\": 2,\n",
    "    \"minimum_biomass\": 1,\n",
    "    \"max_in_patch\": 4,\n",
    "    \"lag_phase_length\": 25,\n",
    "    \"lag_phase_true\": True,\n",
    "    \"survival_cost\": 0.5,\n",
    "    \"enzyme_production_rate\": 1,\n",
    "    # Enzyme parameters\n",
    "    \"enzyme_half_life\": 206,\n",
    "    # Kinetic paramaters and Antibiotics\n",
    "    \"antibiotics_coefficient\": 0.01, # rate for diffusion\n",
    "    \"antibiotics_diff_enabled\": True, # enable disable diffusion\n",
    "    \"add_antibiotics\": True,\n",
    "    \"antibiotics_conc_amount\":35, # amount of antibiotics to add\n",
    "    # options: agent_count, time_step where once a certain amount of agents added or when we reach time step, or disabled\n",
    "    \"add_condition\": \"agent_count\",\n",
    "    # options: dense or random\n",
    "    \"add_loc\": \"random\", \n",
    "    \"add_time\": 10,\n",
    "    \"add_count\": 20,\n",
    "    \"add_conc\": 10,\n",
    "    \"MIC\": 5,\n",
    "    \"v_max\": 2,\n",
    "    \"k_m\": 2,\n",
    "    # Testing purposes\n",
    "    \"agents_enabled\": True,\n",
    "}\n",
    "\n",
    "model = SimModel(params)"
   ]
  },
  {
   "cell_type": "markdown",
   "metadata": {},
   "source": [
    "### View Nutrient distribution"
   ]
  },
  {
   "cell_type": "code",
   "execution_count": null,
   "metadata": {},
   "outputs": [],
   "source": [
    "amount = 0\n",
    "nutrient_counts = np.zeros((model.grid.width, model.grid.height))\n",
    "for cell_content, (x, y) in model.grid.coord_iter():\n",
    "    amount += model.grid.properties[\"nutrient\"].data[x][y]\n",
    "    nutrient_counts[x][y] = model.grid.properties[\"nutrient\"].data[x][y]\n",
    "\n",
    "print(f\"Currently there are {amount} nutrients\")\n",
    "g = sns.heatmap(nutrient_counts, cmap=\"viridis\", annot=True, cbar=False, square=True)\n",
    "g.figure.set_size_inches(6, 6)\n",
    "g.set(title=\"Nutrient distribution\")"
   ]
  },
  {
   "cell_type": "markdown",
   "metadata": {},
   "source": [
    "### View Nutrient distribution over time with animation"
   ]
  },
  {
   "cell_type": "code",
   "execution_count": null,
   "metadata": {},
   "outputs": [],
   "source": [
    "def update(frame_number, nutrient_counts, model, fig, ax):\n",
    "    ax.clear()  # Clear current axis to redraw\n",
    "    amount = 0\n",
    "    for cell_content, (x, y) in model.grid.coord_iter():\n",
    "        amount += model.grid.properties[\"nutrient\"].data[x][y]\n",
    "        nutrient_counts[x,y] = model.grid.properties[\"nutrient\"].data[x][y]\n",
    "    \n",
    "    sns.heatmap(nutrient_counts, cmap=\"viridis\", annot=True, \n",
    "                cbar=False, square=True, ax=ax)\n",
    "    \n",
    "    ax.set(title=f\"Nutrient distribution at step {frame_number + 1}\\nTotal nutrients: {amount}\")\n",
    "\n",
    "    model.step()\n",
    "\n",
    "nutrient_counts = np.zeros((model.grid.width, model.grid.height))\n",
    "fig, ax = plt.subplots(figsize=(6, 6))\n",
    "\n",
    "# Animation function, range will determine how many steps are taken\n",
    "ani = FuncAnimation(fig, update, frames=range(50), fargs=(nutrient_counts, model, fig, ax), \n",
    "                    interval=200, repeat=False)\n",
    "\n",
    "plt.close()\n",
    "from IPython.display import HTML\n",
    "HTML(ani.to_html5_video())\n",
    "# Save animation, REQUIRES FFMPEG which is standard on most linux distros\n",
    "#ani.save('nutrient_spread.mp4', writer='ffmpeg')\n",
    "# If this fails then run this and ensure you have pillow with pip install pillow, ask me for help if it still doesn't work\n",
    "# ani.save('nutrient_spread.gif', writer='pillow')  # Save as GIF"
   ]
  },
  {
   "cell_type": "markdown",
   "metadata": {},
   "source": [
    "### View Agent distribution"
   ]
  },
  {
   "cell_type": "code",
   "execution_count": null,
   "metadata": {},
   "outputs": [],
   "source": [
    "agent_counts = np.zeros((model.grid.width, model.grid.height))\n",
    "for cell_content, (x, y) in model.grid.coord_iter():\n",
    "    agent_count = len(cell_content)\n",
    "    agent_counts[x][y] = agent_count\n",
    "f = sns.heatmap(agent_counts, cmap=\"viridis\", annot=True, cbar=False, square=True)\n",
    "f.figure.set_size_inches(4, 4)\n",
    "f.set(title=\"Agent Distribution\")"
   ]
  },
  {
   "cell_type": "markdown",
   "metadata": {},
   "source": [
    "### Step Through model"
   ]
  },
  {
   "cell_type": "code",
   "execution_count": 48,
   "metadata": {},
   "outputs": [
    {
     "name": "stdout",
     "output_type": "stream",
     "text": [
      "0\n",
      "1\n",
      "2\n",
      "3\n",
      "4\n",
      "5\n",
      "6\n",
      "7\n",
      "8\n",
      "9\n",
      "10\n",
      "11\n",
      "12\n",
      "13\n",
      "14\n",
      "15\n",
      "16\n",
      "17\n",
      "18\n",
      "19\n",
      "20\n",
      "21\n",
      "22\n",
      "23\n",
      "24\n",
      "25\n",
      "26\n",
      "27\n",
      "28\n",
      "29\n",
      "30\n",
      "31\n",
      "32\n",
      "33\n",
      "34\n",
      "35\n",
      "36\n",
      "37\n",
      "38\n",
      "39\n",
      "40\n",
      "41\n",
      "42\n",
      "43\n",
      "44\n",
      "45\n",
      "46\n",
      "47\n",
      "48\n",
      "49\n",
      "50\n",
      "51\n",
      "52\n",
      "53\n",
      "54\n",
      "55\n",
      "56\n",
      "57\n",
      "58\n",
      "59\n",
      "60\n",
      "61\n",
      "62\n",
      "63\n",
      "64\n",
      "65\n",
      "66\n",
      "67\n",
      "68\n",
      "69\n",
      "70\n",
      "71\n",
      "72\n",
      "73\n",
      "74\n",
      "75\n",
      "76\n",
      "77\n",
      "78\n",
      "79\n",
      "80\n",
      "81\n",
      "82\n",
      "83\n",
      "84\n",
      "85\n",
      "86\n",
      "87\n",
      "88\n",
      "89\n",
      "90\n",
      "91\n",
      "92\n",
      "93\n",
      "94\n",
      "95\n",
      "96\n",
      "97\n",
      "98\n",
      "99\n"
     ]
    }
   ],
   "source": [
    "for _ in range(100):\n",
    "    model.step()"
   ]
  },
  {
   "cell_type": "markdown",
   "metadata": {},
   "source": [
    "### View Agent movement and nutrient distribution over time"
   ]
  },
  {
   "cell_type": "code",
   "execution_count": 38,
   "metadata": {},
   "outputs": [],
   "source": [
    "\n",
    "def update(frame_number, nutrient_counts, bacteria_locations, model, fig, ax):\n",
    "    ax.clear()  # Clear current axis to redraw\n",
    "    nutrient_counts.fill(0)  # Reset nutrient counts to zero for the new frame\n",
    "    bacteria_locations.fill(0)  # Reset bacteria locations to zero for the new frame\n",
    "    \n",
    "    amount = 0\n",
    "    # Update nutrient counts\n",
    "    for cell_content, (x, y) in model.grid.coord_iter():\n",
    "        amount += model.grid.properties[\"nutrient\"].data[x][y]\n",
    "        nutrient_counts[x, y] = model.grid.properties[\"nutrient\"].data[x][y]\n",
    "        \n",
    "    # Update bacteria locations\n",
    "    for agent in model.schedule.agents:\n",
    "        if hasattr(agent, 'pos'):  # Ensure agent has a position\n",
    "            bx, by = agent.pos\n",
    "            bacteria_locations[bx, by] = 1  # Mark location as occupied by bacteria\n",
    "    \n",
    "    # Create a combined plot\n",
    "    overlay = np.ma.masked_where(bacteria_locations == 0, bacteria_locations) # Mask where there is no bacteria\n",
    "    sns.heatmap(nutrient_counts, cmap=\"viridis\", annot=True, cbar=False, square=True, ax=ax)  # Plot for nutrients\n",
    "    sns.heatmap(overlay, cmap=\"autumn\", annot=False, cbar=False, square=True, ax=ax, alpha=0.6)  # Overlay for bacteria locations\n",
    "    \n",
    "    ax.set(title=f\"Nutrient distribution and bacteria movement at step {frame_number + 1}\\nTotal nutrients: {amount}\")\n",
    "    model.step()\n",
    "\n",
    "# Assume the `model` is already initiated\n",
    "nutrient_counts = np.zeros((model.grid.width, model.grid.height))\n",
    "bacteria_locations = np.zeros_like(nutrient_counts)  # Supplementary array for marking bacteria locations\n",
    "fig, ax = plt.subplots(figsize=(8, 8))\n",
    "    \n",
    "ani = FuncAnimation(fig, update, frames=range(100), fargs=(nutrient_counts, bacteria_locations, model, fig, ax), \n",
    "                    interval=200, repeat=False)\n",
    "\n",
    "plt.close()  # Prevents the final frame plot from showing immediately\n",
    "\n",
    "# Saving the animation\n",
    "ani.save('bacteria_nutrient_overlay.mp4', writer='ffmpeg')\n",
    "\n",
    "#from IPython.display import HTML\n",
    "#HTML(ani.to_html5_video())"
   ]
  },
  {
   "cell_type": "markdown",
   "metadata": {},
   "source": [
    "Plot and animation"
   ]
  },
  {
   "cell_type": "code",
   "execution_count": 4,
   "metadata": {},
   "outputs": [
    {
     "ename": "NameError",
     "evalue": "name 'model' is not defined",
     "output_type": "error",
     "traceback": [
      "\u001b[0;31m---------------------------------------------------------------------------\u001b[0m",
      "\u001b[0;31mNameError\u001b[0m                                 Traceback (most recent call last)",
      "Cell \u001b[0;32mIn[4], line 25\u001b[0m\n\u001b[1;32m     22\u001b[0m fig, ax \u001b[38;5;241m=\u001b[39m plt\u001b[38;5;241m.\u001b[39msubplots(figsize\u001b[38;5;241m=\u001b[39m(\u001b[38;5;241m6\u001b[39m, \u001b[38;5;241m6\u001b[39m))\n\u001b[1;32m     24\u001b[0m \u001b[38;5;66;03m# Animation function, range will determine how many steps are taken\u001b[39;00m\n\u001b[0;32m---> 25\u001b[0m ani \u001b[38;5;241m=\u001b[39m FuncAnimation(fig, update, frames\u001b[38;5;241m=\u001b[39m\u001b[38;5;28mrange\u001b[39m(\u001b[38;5;241m50\u001b[39m), fargs\u001b[38;5;241m=\u001b[39m(bacteria_counts, \u001b[43mmodel\u001b[49m, fig, ax), \n\u001b[1;32m     26\u001b[0m                     interval\u001b[38;5;241m=\u001b[39m\u001b[38;5;241m200\u001b[39m, repeat\u001b[38;5;241m=\u001b[39m\u001b[38;5;28;01mFalse\u001b[39;00m)\n\u001b[1;32m     28\u001b[0m plt\u001b[38;5;241m.\u001b[39mclose()\n\u001b[1;32m     29\u001b[0m \u001b[38;5;28;01mfrom\u001b[39;00m \u001b[38;5;21;01mIPython\u001b[39;00m\u001b[38;5;21;01m.\u001b[39;00m\u001b[38;5;21;01mdisplay\u001b[39;00m \u001b[38;5;28;01mimport\u001b[39;00m HTML\n",
      "\u001b[0;31mNameError\u001b[0m: name 'model' is not defined"
     ]
    },
    {
     "data": {
      "image/png": "[encoded data removed]",
      "text/plain": [
       "<Figure size 600x600 with 1 Axes>"
      ]
     },
     "metadata": {},
     "output_type": "display_data"
    },
    {
     "data": {
      "image/png": "[encoded data removed]",
      "text/plain": [
       "<Figure size 600x600 with 1 Axes>"
      ]
     },
     "metadata": {},
     "output_type": "display_data"
    }
   ],
   "source": [
    "# Create a separate plot for bacteria count against time\n",
    "fig1, ax1 = plt.subplots(figsize=(6, 6))\n",
    "ax1.set(xlabel='Time', ylabel='Number of Bacteria', title='Bacteria Growth Over Time')\n",
    "\n",
    "def update(frame_number, bacteria_counts, model, fig, ax):\n",
    "    ax.clear()  # Clear current axis to redraw\n",
    "    amount = 0\n",
    "    for cell_content, (x, y) in model.grid.coord_iter():\n",
    "        amount += model.grid.properties[\"bacteria\"].data[x][y]\n",
    "        bacteria_counts[frame_number] = amount\n",
    "    \n",
    "    ax1.plot(range(frame_number + 1), bacteria_counts[:frame_number + 1], label='Bacteria Count')\n",
    "    ax1.legend()\n",
    "    \n",
    "    ax.plot(range(frame_number + 1), bacteria_counts[:frame_number + 1], label='Bacteria Count')\n",
    "    ax.set(title=f\"Bacteria count at step {frame_number + 1}\\nTotal bacteria: {amount}\", xlabel='Time', ylabel='Number of Bacteria')\n",
    "    ax.legend()\n",
    "\n",
    "    model.step()\n",
    "\n",
    "bacteria_counts = [0]*50\n",
    "fig, ax = plt.subplots(figsize=(6, 6))\n",
    "\n",
    "# Animation function, range will determine how many steps are taken\n",
    "ani = FuncAnimation(fig, update, frames=range(50), fargs=(bacteria_counts, model, fig, ax), \n",
    "                    interval=200, repeat=False)\n",
    "\n",
    "plt.close()\n",
    "from IPython.display import HTML\n",
    "HTML(ani.to_html5_video())\n",
    "# Save animation, REQUIRES FFMPEG which is standard on most linux distros\n",
    "#ani.save('bacteria_growth.mp4', writer='ffmpeg')\n",
    "# If this fails then run this and ensure you have pillow with pip install pillow, ask me for help if it still doesn't work\n",
    "# ani.save('bacteria_growth.gif', writer='pillow')  # Save as GIF"
   ]
  }
 ],
 "metadata": {
  "kernelspec": {
   "display_name": "Python 3",
   "language": "python",
   "name": "python3"
  },
  "language_info": {
   "codemirror_mode": {
    "name": "ipython",
    "version": 3
   },
   "file_extension": ".py",
   "mimetype": "text/x-python",
   "name": "python",
   "nbconvert_exporter": "python",
   "pygments_lexer": "ipython3",
   "version": "3.11.1"
  }
 },
 "nbformat": 4,
 "nbformat_minor": 4
}
