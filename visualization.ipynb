{
 "cells": [
  {
   "cell_type": "markdown",
   "metadata": {},
   "source": [
    "# Modelling Antibiotics Resistance through virtual simulations\n",
    "authors: Talhah Peerbhai (talhah@cmu.edu), Hanna Qasim (hqasim@andrew.cmu.edu)"
   ]
  },
  {
   "cell_type": "code",
   "execution_count": null,
   "metadata": {},
   "outputs": [],
   "source": [
    "# Run this to initialize the model\n",
    "import importlib\n",
    "import seaborn as sns\n",
    "import pandas as pd\n",
    "import numpy as np\n",
    "import matplotlib.pyplot as plt\n",
    "from matplotlib.animation import FuncAnimation\n",
    "# Due to the nature of jupyter it doesn't take into account the code outside changing unless kernel restarted\n",
    "# this is a workaround as per https://stackoverflow.com/questions/64158622/jupyter-does-not-see-changes-in-the-imported-module\n",
    "imported_module = importlib.import_module(\"simulation_model.simulation_model\")\n",
    "importlib.reload(imported_module)\n",
    "from simulation_model.simulation_model import *\n",
    "\n",
    "params = {\n",
    "    # Environmental parameters\n",
    "    \"width\": 10,\n",
    "    \"height\": 10,\n",
    "    \"diffusion_coefficient\": 0.1,\n",
    "    # Bacterium parameters\n",
    "    \"num_agents\": 10,\n",
    "    \"uptake_rate\": 0.1,\n",
    "    \"uptake_rate_antibiotic\": 0.1,\n",
    "    \"biomass_threshold\": 10,\n",
    "    \"initial_size\": 10,\n",
    "    \"initial_biomass\": 0.1,\n",
    "    \"lag_phase\": 66,\n",
    "}\n",
    "\n",
    "model = SimModel(params)"
   ]
  },
  {
   "cell_type": "markdown",
   "metadata": {},
   "source": [
    "### View Nutrient distribution"
   ]
  },
  {
   "cell_type": "code",
   "execution_count": null,
   "metadata": {},
   "outputs": [],
   "source": [
    "amount = 0\n",
    "nutrient_counts = np.zeros((model.grid.width, model.grid.height))\n",
    "for cell_content, (x, y) in model.grid.coord_iter():\n",
    "    amount += model.grid.properties[\"nutrient\"].data[x][y]\n",
    "    nutrient_counts[x][y] = model.grid.properties[\"nutrient\"].data[x][y]\n",
    "\n",
    "print(f\"Currently there are {amount} nutrients\")\n",
    "g = sns.heatmap(nutrient_counts, cmap=\"viridis\", annot=True, cbar=False, square=True)\n",
    "g.figure.set_size_inches(6, 6)\n",
    "g.set(title=\"Nutrient distribution\")"
   ]
  },
  {
   "cell_type": "markdown",
   "metadata": {},
   "source": [
    "### View Nutrient distribution over time with animation"
   ]
  },
  {
   "cell_type": "code",
   "execution_count": null,
   "metadata": {},
   "outputs": [],
   "source": [
    "def update(frame_number, nutrient_counts, model, fig, ax):\n",
    "    ax.clear()  # Clear current axis to redraw\n",
    "    amount = 0\n",
    "    for cell_content, (x, y) in model.grid.coord_iter():\n",
    "        amount += model.grid.properties[\"nutrient\"].data[x][y]\n",
    "        nutrient_counts[x,y] = model.grid.properties[\"nutrient\"].data[x][y]\n",
    "    \n",
    "    sns.heatmap(nutrient_counts, cmap=\"viridis\", annot=True, \n",
    "                cbar=False, square=True, ax=ax)\n",
    "    \n",
    "    ax.set(title=f\"Nutrient distribution at step {frame_number}\\nTotal nutrients: {amount}\")\n",
    "\n",
    "    model.step()\n",
    "\n",
    "nutrient_counts = np.zeros((model.grid.width, model.grid.height))\n",
    "fig, ax = plt.subplots(figsize=(6, 6))\n",
    "\n",
    "# Animation function, range will determine how many steps are taken\n",
    "ani = FuncAnimation(fig, update, frames=range(100), fargs=(nutrient_counts, model, fig, ax), \n",
    "                    interval=200, repeat=False)\n",
    "\n",
    "plt.close()\n",
    "# Save animation, REQUIRES FFMPEG which is standard on most linux distros\n",
    "ani.save('nutrient_spread.mp4', writer='ffmpeg')\n",
    "# If this fails then run this and ensure you have pillow with pip install pillow, ask me for help if it still doesn't work\n",
    "# ani.save('nutrient_spread.gif', writer='pillow')  # Save as GIF"
   ]
  },
  {
   "cell_type": "markdown",
   "metadata": {},
   "source": [
    "### View Agent distribution"
   ]
  },
  {
   "cell_type": "code",
   "execution_count": null,
   "metadata": {},
   "outputs": [],
   "source": [
    "agent_counts = np.zeros((model.grid.width, model.grid.height))\n",
    "for cell_content, (x, y) in model.grid.coord_iter():\n",
    "    agent_count = len(cell_content)\n",
    "    agent_counts[x][y] = agent_count\n",
    "f = sns.heatmap(agent_counts, cmap=\"viridis\", annot=True, cbar=False, square=True)\n",
    "f.figure.set_size_inches(4, 4)\n",
    "f.set(title=\"Agent Distribution\")"
   ]
  },
  {
   "cell_type": "markdown",
   "metadata": {},
   "source": [
    "### Step Through model"
   ]
  },
  {
   "cell_type": "code",
   "execution_count": null,
   "metadata": {},
   "outputs": [],
   "source": [
    "for _ in range(100):\n",
    "    model.step()"
   ]
  },
  {
   "cell_type": "code",
   "execution_count": null,
   "metadata": {},
   "outputs": [],
   "source": []
  }
 ],
 "metadata": {
  "kernelspec": {
   "display_name": "Python [conda env:gcb]",
   "language": "python",
   "name": "conda-env-gcb-py"
  },
  "language_info": {
   "codemirror_mode": {
    "name": "ipython",
    "version": 3
   },
   "file_extension": ".py",
   "mimetype": "text/x-python",
   "name": "python",
   "nbconvert_exporter": "python",
   "pygments_lexer": "ipython3",
   "version": "3.12.2"
  }
 },
 "nbformat": 4,
 "nbformat_minor": 4
}
