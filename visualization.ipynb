{
 "cells": [
  {
   "cell_type": "markdown",
   "metadata": {},
   "source": [
    "# Modelling Antibiotics Resistance through virtual simulations\n",
    "authors: Talhah Peerbhai (talhah@cmu.edu), Hanna Qasim (hqasim@andrew.cmu.edu)"
   ]
  },
  {
   "cell_type": "code",
   "execution_count": 21,
   "metadata": {},
   "outputs": [],
   "source": [
    "# Run this to initialize the model\n",
    "import importlib\n",
    "import seaborn as sns\n",
    "import pandas as pd\n",
    "import numpy as np\n",
    "import matplotlib.pyplot as plt\n",
    "from matplotlib.animation import FuncAnimation\n",
    "# Due to the nature of jupyter it doesn't take into account the code outside changing unless kernel restarted\n",
    "# this is a workaround as per https://stackoverflow.com/questions/64158622/jupyter-does-not-see-changes-in-the-imported-module\n",
    "imported_module = importlib.import_module(\"simulation_model.simulation_model\")\n",
    "importlib.reload(imported_module)\n",
    "from simulation_model.simulation_model import *\n",
    "\n",
    "params = {\n",
    "    # Environmental parameters\n",
    "    \"width\": 100,\n",
    "    \"height\": 100,\n",
    "    \"diffusion_coefficient\": 0.01, # nutrients\n",
    "    \"min_nutrients\": 5,\n",
    "    \"max_nutrients\": 10,\n",
    "    \"nutrient_distribution\": \"random\", # random or uniform, if uniform, every cell gets max_nutrients\n",
    "    # Bacterium parameters\n",
    "    \"resistant\": True,\n",
    "    \"num_agents\": 3,\n",
    "    \"nutrient_intake\": 1,\n",
    "    \"antibiotic_intake\": 1,\n",
    "    \"biomass_threshold\": 6,\n",
    "    \"initial_biomass\": 2,\n",
    "    \"minimum_biomass\": 1,\n",
    "    \"max_in_patch\": 4,\n",
    "    \"lag_phase_length\": 25,\n",
    "    \"lag_phase_true\": True,\n",
    "    \"survival_cost\": 0.5,\n",
    "    \"enzyme_production_rate\": 1,\n",
    "    # Enzyme parameters\n",
    "    \"enzyme_half_life\": 206,\n",
    "    # Kinetic paramaters and Antibiotics\n",
    "    \"antibiotics_coefficient\": 0.01, # rate for diffusion\n",
    "    \"antibiotics_diff_enabled\": True, # enable disable diffusion\n",
    "    \"add_antibiotics\": True,\n",
    "    \"antibiotics_conc_amount\":35, # amount of antibiotics to add\n",
    "    # options: agent_count, time_step where once a certain amount of agents added or when we reach time step, or disabled\n",
    "    \"add_condition\": \"agent_count\",\n",
    "    # options: dense or random\n",
    "    \"add_loc\": \"random\", \n",
    "    \"add_time\": 10,\n",
    "    \"add_count\": 20,\n",
    "    \"add_conc\": 10,\n",
    "    \"MIC\": 5,\n",
    "    \"v_max\": 2,\n",
    "    \"k_m\": 2,\n",
    "    # Testing purposes\n",
    "    \"agents_enabled\": True,\n",
    "}\n",
    "\n",
    "model = SimModel(params)"
   ]
  },
  {
   "cell_type": "markdown",
   "metadata": {},
   "source": [
    "### View Nutrient distribution"
   ]
  },
  {
   "cell_type": "code",
   "execution_count": null,
   "metadata": {},
   "outputs": [],
   "source": [
    "amount = 0\n",
    "nutrient_counts = np.zeros((model.grid.width, model.grid.height))\n",
    "for cell_content, (x, y) in model.grid.coord_iter():\n",
    "    amount += model.grid.properties[\"nutrient\"].data[x][y]\n",
    "    nutrient_counts[x][y] = model.grid.properties[\"nutrient\"].data[x][y]\n",
    "\n",
    "print(f\"Currently there are {amount} nutrients\")\n",
    "g = sns.heatmap(nutrient_counts, cmap=\"viridis\", annot=True, cbar=False, square=True)\n",
    "g.figure.set_size_inches(6, 6)\n",
    "g.set(title=\"Nutrient distribution\")"
   ]
  },
  {
   "cell_type": "markdown",
   "metadata": {},
   "source": [
    "### View Nutrient distribution over time with animation"
   ]
  },
  {
   "cell_type": "code",
   "execution_count": null,
   "metadata": {},
   "outputs": [],
   "source": [
    "def update(frame_number, nutrient_counts, model, fig, ax):\n",
    "    ax.clear()  # Clear current axis to redraw\n",
    "    amount = 0\n",
    "    for cell_content, (x, y) in model.grid.coord_iter():\n",
    "        amount += model.grid.properties[\"nutrient\"].data[x][y]\n",
    "        nutrient_counts[x,y] = model.grid.properties[\"nutrient\"].data[x][y]\n",
    "    \n",
    "    sns.heatmap(nutrient_counts, cmap=\"viridis\", annot=True, \n",
    "                cbar=False, square=True, ax=ax)\n",
    "    \n",
    "    ax.set(title=f\"Nutrient distribution at step {frame_number + 1}\\nTotal nutrients: {amount}\")\n",
    "\n",
    "    model.step()\n",
    "\n",
    "nutrient_counts = np.zeros((model.grid.width, model.grid.height))\n",
    "fig, ax = plt.subplots(figsize=(6, 6))\n",
    "\n",
    "# Animation function, range will determine how many steps are taken\n",
    "ani = FuncAnimation(fig, update, frames=range(50), fargs=(nutrient_counts, model, fig, ax), \n",
    "                    interval=200, repeat=False)\n",
    "\n",
    "plt.close()\n",
    "from IPython.display import HTML\n",
    "HTML(ani.to_html5_video())\n",
    "# Save animation, REQUIRES FFMPEG which is standard on most linux distros\n",
    "#ani.save('nutrient_spread.mp4', writer='ffmpeg')\n",
    "# If this fails then run this and ensure you have pillow with pip install pillow, ask me for help if it still doesn't work\n",
    "# ani.save('nutrient_spread.gif', writer='pillow')  # Save as GIF"
   ]
  },
  {
   "cell_type": "markdown",
   "metadata": {},
   "source": [
    "### View Agent distribution"
   ]
  },
  {
   "cell_type": "code",
   "execution_count": null,
   "metadata": {},
   "outputs": [],
   "source": [
    "agent_counts = np.zeros((model.grid.width, model.grid.height))\n",
    "for cell_content, (x, y) in model.grid.coord_iter():\n",
    "    agent_count = len(cell_content)\n",
    "    agent_counts[x][y] = agent_count\n",
    "f = sns.heatmap(agent_counts, cmap=\"viridis\", annot=True, cbar=False, square=True)\n",
    "f.figure.set_size_inches(4, 4)\n",
    "f.set(title=\"Agent Distribution\")"
   ]
  },
  {
   "cell_type": "markdown",
   "metadata": {},
   "source": [
    "### Step Through model"
   ]
  },
  {
   "cell_type": "code",
   "execution_count": null,
   "metadata": {},
   "outputs": [],
   "source": [
    "for _ in range(100):\n",
    "    model.step()"
   ]
  },
  {
   "cell_type": "markdown",
   "metadata": {},
   "source": [
    "### View Agent movement and nutrient distribution over time"
   ]
  },
  {
   "cell_type": "code",
   "execution_count": null,
   "metadata": {},
   "outputs": [],
   "source": [
    "\n",
    "def update(frame_number, nutrient_counts, bacteria_locations, model, fig, ax):\n",
    "    ax.clear()  # Clear current axis to redraw\n",
    "    nutrient_counts.fill(0)  # Reset nutrient counts to zero for the new frame\n",
    "    bacteria_locations.fill(0)  # Reset bacteria locations to zero for the new frame\n",
    "    \n",
    "    amount = 0\n",
    "    # Update nutrient counts\n",
    "    for cell_content, (x, y) in model.grid.coord_iter():\n",
    "        amount += model.grid.properties[\"nutrient\"].data[x][y]\n",
    "        nutrient_counts[x, y] = model.grid.properties[\"nutrient\"].data[x][y]\n",
    "        \n",
    "    # Update bacteria locations\n",
    "    for agent in model.schedule.agents:\n",
    "        if hasattr(agent, 'pos'):  # Ensure agent has a position\n",
    "            bx, by = agent.pos\n",
    "            bacteria_locations[bx, by] = 1  # Mark location as occupied by bacteria\n",
    "    \n",
    "    # Create a combined plot\n",
    "    overlay = np.ma.masked_where(bacteria_locations == 0, bacteria_locations) # Mask where there is no bacteria\n",
    "    sns.heatmap(nutrient_counts, cmap=\"viridis\", annot=True, cbar=False, square=True, ax=ax)  # Plot for nutrients\n",
    "    sns.heatmap(overlay, cmap=\"autumn\", annot=False, cbar=False, square=True, ax=ax, alpha=0.6)  # Overlay for bacteria locations\n",
    "    \n",
    "    ax.set(title=f\"Nutrient distribution and bacteria movement at step {frame_number + 1}\\nTotal nutrients: {amount}\")\n",
    "    model.step()\n",
    "\n",
    "# Assume the `model` is already initiated\n",
    "nutrient_counts = np.zeros((model.grid.width, model.grid.height))\n",
    "bacteria_locations = np.zeros_like(nutrient_counts)  # Supplementary array for marking bacteria locations\n",
    "fig, ax = plt.subplots(figsize=(8, 8))\n",
    "    \n",
    "ani = FuncAnimation(fig, update, frames=range(100), fargs=(nutrient_counts, bacteria_locations, model, fig, ax), \n",
    "                    interval=200, repeat=False)\n",
    "\n",
    "plt.close()  # Prevents the final frame plot from showing immediately\n",
    "\n",
    "# Saving the animation\n",
    "ani.save('bacteria_nutrient_overlay.mp4', writer='ffmpeg')\n",
    "\n",
    "#from IPython.display import HTML\n",
    "#HTML(ani.to_html5_video())"
   ]
  },
  {
   "cell_type": "markdown",
   "metadata": {},
   "source": [
    "Graph: The red lines in the plot represent the start of each new phase in the bacteria growth cycle. So going from left to right we have: lag, log/exponential, stationary, death."
   ]
  },
  {
   "cell_type": "code",
   "execution_count": 22,
   "metadata": {},
   "outputs": [
    {
     "data": {
      "image/png": "[encoded data removed]",
      "text/plain": [
       "<Figure size 1000x600 with 1 Axes>"
      ]
     },
     "metadata": {},
     "output_type": "display_data"
    }
   ],
   "source": [
    "def update(frame_number, bacteria_counts, model):\n",
    "    amount = 0\n",
    "    for cell_content, (x, y) in model.grid.coord_iter():\n",
    "        amount += len(cell_content)\n",
    "        bacteria_counts[frame_number] = amount\n",
    "    \n",
    "    model.step()\n",
    "\n",
    "bacteria_counts = [0]*50\n",
    "\n",
    "# Call the update function for each frame\n",
    "for frame_number in range(50):\n",
    "    update(frame_number, bacteria_counts, model)\n",
    "\n",
    "# Use the bacteria_counts data from the previous function\n",
    "time = list(range(0, 50))  # Time points from 0 to 50\n",
    "bacteria_count = bacteria_counts  # Use the bacteria_counts data from the previous function\n",
    "phases = ['lag' if t < 5 else 'log' if t < 10 else 'stationary' if t < 30 else 'death' for t in time]  # Different phases of bacterial growth\n",
    "\n",
    "plt.figure(figsize=(10, 6))\n",
    "\n",
    "# Plot time against bacteria count\n",
    "plt.plot(time, bacteria_count, label='Bacteria Count')\n",
    "\n",
    "# Add vertical lines indicating the start of each phase\n",
    "for i in range(len(phases)):\n",
    "    if i > 0 and phases[i] != phases[i-1]:\n",
    "        plt.axvline(x=time[i], color='r', linestyle='--')\n",
    "\n",
    "# Add labels and title\n",
    "plt.xlabel('Time')\n",
    "plt.ylabel('Number of Bacteria')\n",
    "plt.title('Bacteria Growth Phases')\n",
    "plt.legend()\n",
    "\n",
    "# Show the plot\n",
    "plt.show()\n"
   ]
  }
 ],
 "metadata": {
  "kernelspec": {
   "display_name": "Python 3",
   "language": "python",
   "name": "python3"
  },
  "language_info": {
   "codemirror_mode": {
    "name": "ipython",
    "version": 3
   },
   "file_extension": ".py",
   "mimetype": "text/x-python",
   "name": "python",
   "nbconvert_exporter": "python",
   "pygments_lexer": "ipython3",
   "version": "3.11.1"
  }
 },
 "nbformat": 4,
 "nbformat_minor": 4
}
